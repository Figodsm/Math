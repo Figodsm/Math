{
 "cells": [
  {
   "cell_type": "code",
   "execution_count": 1,
   "id": "15653dfc",
   "metadata": {},
   "outputs": [
    {
     "name": "stdout",
     "output_type": "stream",
     "text": [
      "Здравствуйте!\n",
      "Вы можете сделать один из двух видов ставок:\n",
      "1) на число от 0 до 36 включительно\n",
      "2) на красное или черное.\n",
      "Введите ставку:15\n",
      "21 Вы проиграли\n",
      "Здравствуйте!\n",
      "Вы можете сделать один из двух видов ставок:\n",
      "1) на число от 0 до 36 включительно\n",
      "2) на красное или черное.\n",
      "Введите ставку:8\n",
      "16 Вы проиграли\n",
      "Здравствуйте!\n",
      "Вы можете сделать один из двух видов ставок:\n",
      "1) на число от 0 до 36 включительно\n",
      "2) на красное или черное.\n",
      "Введите ставку:черное\n",
      "8 Вы проиграли\n",
      "Здравствуйте!\n",
      "Вы можете сделать один из двух видов ставок:\n",
      "1) на число от 0 до 36 включительно\n",
      "2) на красное или черное.\n",
      "Введите ставку:черное\n",
      "24 Вы проиграли\n",
      "Здравствуйте!\n",
      "Вы можете сделать один из двух видов ставок:\n",
      "1) на число от 0 до 36 включительно\n",
      "2) на красное или черное.\n",
      "Введите ставку:черное\n",
      "35 черное Вы выиграли\n"
     ]
    },
    {
     "ename": "KeyboardInterrupt",
     "evalue": "Interrupted by user",
     "output_type": "error",
     "traceback": [
      "\u001b[1;31m---------------------------------------------------------------------------\u001b[0m",
      "\u001b[1;31mKeyboardInterrupt\u001b[0m                         Traceback (most recent call last)",
      "\u001b[1;32m~\\AppData\\Local\\Temp/ipykernel_2200/1718487533.py\u001b[0m in \u001b[0;36m<module>\u001b[1;34m\u001b[0m\n\u001b[0;32m      6\u001b[0m \u001b[0mbet\u001b[0m \u001b[1;33m=\u001b[0m \u001b[1;36m0\u001b[0m\u001b[1;33m\u001b[0m\u001b[1;33m\u001b[0m\u001b[0m\n\u001b[0;32m      7\u001b[0m \u001b[1;32mwhile\u001b[0m \u001b[1;32mTrue\u001b[0m\u001b[1;33m:\u001b[0m\u001b[1;33m\u001b[0m\u001b[1;33m\u001b[0m\u001b[0m\n\u001b[1;32m----> 8\u001b[1;33m     \u001b[0mbet\u001b[0m \u001b[1;33m=\u001b[0m \u001b[0minput\u001b[0m \u001b[1;33m(\u001b[0m\u001b[1;34m'Здравствуйте!\\nВы можете сделать один из двух видов ставок:\\n1) на число от 0 до 36 включительно\\n2) на красное или черное.\\nВведите ставку:'\u001b[0m\u001b[1;33m)\u001b[0m\u001b[1;33m\u001b[0m\u001b[1;33m\u001b[0m\u001b[0m\n\u001b[0m\u001b[0;32m      9\u001b[0m     \u001b[1;32mtry\u001b[0m\u001b[1;33m:\u001b[0m\u001b[1;33m\u001b[0m\u001b[1;33m\u001b[0m\u001b[0m\n\u001b[0;32m     10\u001b[0m         \u001b[0mbet\u001b[0m \u001b[1;33m=\u001b[0m \u001b[0mint\u001b[0m\u001b[1;33m(\u001b[0m\u001b[0mbet\u001b[0m\u001b[1;33m)\u001b[0m\u001b[1;33m\u001b[0m\u001b[1;33m\u001b[0m\u001b[0m\n",
      "\u001b[1;32m~\\anaconda3\\lib\\site-packages\\ipykernel\\kernelbase.py\u001b[0m in \u001b[0;36mraw_input\u001b[1;34m(self, prompt)\u001b[0m\n\u001b[0;32m   1004\u001b[0m                 \u001b[1;34m\"raw_input was called, but this frontend does not support input requests.\"\u001b[0m\u001b[1;33m\u001b[0m\u001b[1;33m\u001b[0m\u001b[0m\n\u001b[0;32m   1005\u001b[0m             )\n\u001b[1;32m-> 1006\u001b[1;33m         return self._input_request(\n\u001b[0m\u001b[0;32m   1007\u001b[0m             \u001b[0mstr\u001b[0m\u001b[1;33m(\u001b[0m\u001b[0mprompt\u001b[0m\u001b[1;33m)\u001b[0m\u001b[1;33m,\u001b[0m\u001b[1;33m\u001b[0m\u001b[1;33m\u001b[0m\u001b[0m\n\u001b[0;32m   1008\u001b[0m             \u001b[0mself\u001b[0m\u001b[1;33m.\u001b[0m\u001b[0m_parent_ident\u001b[0m\u001b[1;33m[\u001b[0m\u001b[1;34m\"shell\"\u001b[0m\u001b[1;33m]\u001b[0m\u001b[1;33m,\u001b[0m\u001b[1;33m\u001b[0m\u001b[1;33m\u001b[0m\u001b[0m\n",
      "\u001b[1;32m~\\anaconda3\\lib\\site-packages\\ipykernel\\kernelbase.py\u001b[0m in \u001b[0;36m_input_request\u001b[1;34m(self, prompt, ident, parent, password)\u001b[0m\n\u001b[0;32m   1049\u001b[0m             \u001b[1;32mexcept\u001b[0m \u001b[0mKeyboardInterrupt\u001b[0m\u001b[1;33m:\u001b[0m\u001b[1;33m\u001b[0m\u001b[1;33m\u001b[0m\u001b[0m\n\u001b[0;32m   1050\u001b[0m                 \u001b[1;31m# re-raise KeyboardInterrupt, to truncate traceback\u001b[0m\u001b[1;33m\u001b[0m\u001b[1;33m\u001b[0m\u001b[0m\n\u001b[1;32m-> 1051\u001b[1;33m                 \u001b[1;32mraise\u001b[0m \u001b[0mKeyboardInterrupt\u001b[0m\u001b[1;33m(\u001b[0m\u001b[1;34m\"Interrupted by user\"\u001b[0m\u001b[1;33m)\u001b[0m \u001b[1;32mfrom\u001b[0m \u001b[1;32mNone\u001b[0m\u001b[1;33m\u001b[0m\u001b[1;33m\u001b[0m\u001b[0m\n\u001b[0m\u001b[0;32m   1052\u001b[0m             \u001b[1;32mexcept\u001b[0m \u001b[0mException\u001b[0m\u001b[1;33m:\u001b[0m\u001b[1;33m\u001b[0m\u001b[1;33m\u001b[0m\u001b[0m\n\u001b[0;32m   1053\u001b[0m                 \u001b[0mself\u001b[0m\u001b[1;33m.\u001b[0m\u001b[0mlog\u001b[0m\u001b[1;33m.\u001b[0m\u001b[0mwarning\u001b[0m\u001b[1;33m(\u001b[0m\u001b[1;34m\"Invalid Message:\"\u001b[0m\u001b[1;33m,\u001b[0m \u001b[0mexc_info\u001b[0m\u001b[1;33m=\u001b[0m\u001b[1;32mTrue\u001b[0m\u001b[1;33m)\u001b[0m\u001b[1;33m\u001b[0m\u001b[1;33m\u001b[0m\u001b[0m\n",
      "\u001b[1;31mKeyboardInterrupt\u001b[0m: Interrupted by user"
     ]
    }
   ],
   "source": [
    "'''\n",
    "1. Напишите код, моделирующий выпадение поля в рулетке (с учетом поля зеро).\n",
    "'''\n",
    "\n",
    "import numpy as np\n",
    "bet = 0\n",
    "while True:\n",
    "    bet = input ('Здравствуйте!\\nВы можете сделать один из двух видов ставок:\\n1) на число от 0 до 36 включительно\\n2) на красное или черное.\\nВведите ставку:')\n",
    "    try:\n",
    "        bet = int(bet)\n",
    "        if bet > 36:\n",
    "            print('Ошибка ставки')\n",
    "            break\n",
    "        bet_1 = round(np.random.uniform (0,36))\n",
    "        if bet == bet_1:\n",
    "            print(bet_1, 'Вы выиграли')\n",
    "        else:\n",
    "            print(bet_1, 'Вы проиграли')\n",
    "    except ValueError:\n",
    "        if bet == 'красное' or bet == 'черное':\n",
    "            bet_2 = round(np.random.uniform (0,36))\n",
    "            if bet_2 % 2 != 0 and bet == 'черное':\n",
    "                print(bet_2, 'черное','Вы выиграли')\n",
    "            elif bet_2 % 2 == 0 and bet == 'красное' and bet_2 !=0:\n",
    "                print(bet_2, 'красное', 'Вы выиграли')\n",
    "            else:\n",
    "                print(bet_2, 'Вы проиграли')\n",
    "        else:\n",
    "            print('Ошибка ставки')\n",
    "            break"
   ]
  },
  {
   "cell_type": "code",
   "execution_count": 2,
   "id": "e995e24d",
   "metadata": {},
   "outputs": [
    {
     "name": "stdout",
     "output_type": "stream",
     "text": [
      "1.0\n",
      "[479, 603, 269, 550, 386, 472, 501, 387, 394]\n"
     ]
    },
    {
     "data": {
      "image/png": "[encoded data removed]",
      "text/plain": [
       "<Figure size 432x288 with 1 Axes>"
      ]
     },
     "metadata": {
      "needs_background": "light"
     },
     "output_type": "display_data"
    }
   ],
   "source": [
    "\"\"\"\n",
    "2.\n",
    "Напишите код, проверяющий любую из теорем сложения или умножения вероятности на примере рулетки или подбрасывания монетки.\n",
    "Сгенерируйте десять выборок случайных чисел х0, …, х9.\n",
    "и постройте гистограмму распределения случайной суммы х0+х1+ …+ х9.\n",
    "\"\"\"\n",
    "# Вероятность выпадения красного\n",
    "Pn_red = 18/37\n",
    "# Вероятность черного\n",
    "Pn_black = 18/37\n",
    "# Вероятность зеро\n",
    "Pn_0 = 1/37\n",
    "#Вероятность выпадения любого числа\n",
    "P = Pn_red + Pn_black + Pn_0\n",
    "print(P)\n",
    "\n",
    "import random\n",
    "import matplotlib.pyplot as plt\n",
    "x = []\n",
    "for i in range (0, 9):\n",
    "    x.append(sum(random.sample(range(100), 10)))\n",
    "print(x)\n",
    "plt.hist(x, bins='auto')\n",
    "plt.show()"
   ]
  },
  {
   "cell_type": "code",
   "execution_count": 4,
   "id": "e0eb6ecd",
   "metadata": {},
   "outputs": [
    {
     "name": "stdout",
     "output_type": "stream",
     "text": [
      "\n",
      "Количество выпадания орлов 27 и 43 решек при 70 попытках\n",
      "\n",
      "Количество выпадания орлов 45 и 40 решек при 85 попытках\n",
      "\n",
      "Количество выпадания орлов 54 и 46 решек при 100 попытках\n",
      "\n",
      "Количество выпадания орлов 51 и 64 решек при 115 попытках\n",
      "\n",
      "Вероятность выпадения 35 орлов при 70 попытках - 9.50255 %\n",
      "Вероятность выпадения 40 орлов при 70 попытках - 4.68814 %\n",
      "Вероятность выпадения 45 орлов при 70 попытках - 0.54682 %\n",
      "Вероятность выпадения 50 орлов при 70 попытках - 0.01371 %\n",
      "Вероятность выпадения 55 орлов при 70 попытках - 0.00006 %\n",
      "\n",
      "Вероятность выпадения 35 орлов при 85 попытках - 2.31711 %\n",
      "Вероятность выпадения 40 орлов при 85 попытках - 7.46099 %\n",
      "Вероятность выпадения 45 орлов при 85 попытках - 7.46099 %\n",
      "Вероятность выпадения 50 орлов при 85 попытках - 2.31711 %\n",
      "Вероятность выпадения 55 орлов при 85 попытках - 0.21623 %\n",
      "\n",
      "Вероятность выпадения 35 орлов при 100 попытках - 0.08639 %\n",
      "Вероятность выпадения 40 орлов при 100 попытках - 1.08439 %\n",
      "Вероятность выпадения 45 орлов при 100 попытках - 4.84743 %\n",
      "Вероятность выпадения 50 орлов при 100 попытках - 7.95892 %\n",
      "Вероятность выпадения 55 орлов при 100 попытках - 4.84743 %\n",
      "\n",
      "Вероятность выпадения 35 орлов при 115 попытках - 0.00095 %\n",
      "Вероятность выпадения 40 орлов при 115 попытках - 0.03479 %\n",
      "Вероятность выпадения 45 орлов при 115 попытках - 0.49144 %\n",
      "Вероятность выпадения 50 орлов при 115 попытках - 2.80728 %\n",
      "Вероятность выпадения 55 орлов при 115 попытках - 6.66553 %\n",
      "\n",
      " [18, 16, 15, 19, 17, 16, 18, 14, 15, 11, 17, 13, 18, 15, 15, 18, 21, 14, 14, 15, 19, 11, 13, 17, 15, 18, 13, 15, 18, 17, 14, 8, 14, 14, 10, 17, 14, 10, 15, 11] [12, 14, 15, 11, 13, 14, 12, 16, 15, 19, 13, 17, 12, 15, 15, 12, 9, 16, 16, 15, 11, 19, 17, 13, 15, 12, 17, 15, 12, 13, 16, 22, 16, 16, 20, 13, 16, 20, 15, 19]\n"
     ]
    },
    {
     "data": {
      "image/png": "[encoded data removed]",
      "text/plain": [
       "<Figure size 432x288 with 1 Axes>"
      ]
     },
     "metadata": {
      "needs_background": "light"
     },
     "output_type": "display_data"
    },
    {
     "name": "stdout",
     "output_type": "stream",
     "text": [
      "\n",
      " Kоэффициент корреляции равен -1.0\n"
     ]
    },
    {
     "name": "stderr",
     "output_type": "stream",
     "text": [
      "C:\\Users\\Filipp\\AppData\\Local\\Temp/ipykernel_2200/563900010.py:46: RuntimeWarning: invalid value encountered in true_divide\n",
      "  R1 = np.sum((X[i] - X[i - 1]) * (Y[i] - Y[i - 1])) / np.sqrt((np.sum(X[i] - X[i - 1]) ** 2) * np.sum((Y[i] - Y[i - 1]) ** 2))\n"
     ]
    }
   ],
   "source": [
    "\"\"\"\n",
    "3. \n",
    "Дополните код Монте-Карло последовательности независимых испытаний расчетом соответствующих вероятностей (через биномиальное распределение)\n",
    "и сравните результаты.\n",
    "Повторите расчеты биномиальных коэффициентов и вероятностей k успехов в последовательности из n независимых испытаний, взяв другие значения n и k.\n",
    "\"\"\"\n",
    "import random\n",
    "import matplotlib.pyplot as plt\n",
    "import numpy as np\n",
    "import math\n",
    "for n in range (70, 130, 15):\n",
    "    print()\n",
    "    k, m = 0, 0\n",
    "    for i in range(0, n):\n",
    "        x = np.random.uniform(0, 10)\n",
    "        if x<5:\n",
    "            k = k + 1\n",
    "        else:\n",
    "            m = m + 1\n",
    "    print (f'Количество выпадания орлов {k} и {m} решек при {n} попытках')\n",
    "p = 0.5 #успех\n",
    "q = (1 - p)\n",
    "for n in range (70, 130, 15):\n",
    "    print()\n",
    "    for k in range (35, 60, 5):\n",
    "        P = (math.factorial(n) / (math.factorial(k) * math.factorial(n - k))) * (p ** k) * (q ** (n - k)) * 100\n",
    "        print (f'Вероятность выпадения {k} орлов при {n} попытках - {P:.5f} %')\n",
    "X=[]\n",
    "Y=[]\n",
    "for n in range (75, 115):\n",
    "    x, y = 0, 0\n",
    "    for i in range(0, 30):\n",
    "        k = np.random.uniform(0, 10)\n",
    "        if k<5:\n",
    "            x += 1\n",
    "        else:\n",
    "            y += 1\n",
    "    X.append(x)\n",
    "    Y.append(y)\n",
    "print('\\n',X,Y)\n",
    "plt.hist(X, bins='auto')\n",
    "plt.show()\n",
    "#R = np.corrcoef (X,Y)\n",
    "#print('\\n', f'Kоэффициент корреляции равен {R}')\n",
    "for i in range (1, len(X)):\n",
    "    R1 = np.sum((X[i] - X[i - 1]) * (Y[i] - Y[i - 1])) / np.sqrt((np.sum(X[i] - X[i - 1]) ** 2) * np.sum((Y[i] - Y[i - 1]) ** 2))\n",
    "print('\\n',f'Kоэффициент корреляции равен {R1}') "
   ]
  },
  {
   "cell_type": "code",
   "execution_count": null,
   "id": "bead282b",
   "metadata": {},
   "outputs": [],
   "source": []
  }
 ],
 "metadata": {
  "kernelspec": {
   "display_name": "Python 3 (ipykernel)",
   "language": "python",
   "name": "python3"
  },
  "language_info": {
   "codemirror_mode": {
    "name": "ipython",
    "version": 3
   },
   "file_extension": ".py",
   "mimetype": "text/x-python",
   "name": "python",
   "nbconvert_exporter": "python",
   "pygments_lexer": "ipython3",
   "version": "3.9.7"
  }
 },
 "nbformat": 4,
 "nbformat_minor": 5
}
