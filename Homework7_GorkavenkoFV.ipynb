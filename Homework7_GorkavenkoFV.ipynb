{
 "cells": [
  {
   "cell_type": "code",
   "execution_count": 2,
   "id": "5be58e2f",
   "metadata": {},
   "outputs": [
    {
     "name": "stdout",
     "output_type": "stream",
     "text": [
      "[[5. 0. 0. 0. 0.]\n",
      " [0. 5. 0. 0. 0.]\n",
      " [0. 0. 5. 0. 0.]\n",
      " [0. 0. 0. 5. 0.]\n",
      " [0. 0. 0. 0. 5.]]\n",
      "[[0.2 0.  0.  0.  0. ]\n",
      " [0.  0.2 0.  0.  0. ]\n",
      " [0.  0.  0.2 0.  0. ]\n",
      " [0.  0.  0.  0.2 0. ]\n",
      " [0.  0.  0.  0.  0.2]]\n"
     ]
    }
   ],
   "source": [
    "\"\"\"\n",
    "Задание 5.1\n",
    "Вектор – это частный случай матрицы 1хN и Nх1. Повторите материал для векторов, уделяя особое внимание умножению A∙B.\n",
    "Вычислите, по возможности не используя программирование: (5E)〖〖〖^(-1)〗〗^ 〗^ где Е – единичная матрица размера 5х5.\n",
    "\"\"\"\n",
    "import numpy as np\n",
    "\n",
    "A = 5 * np.identity(5)\n",
    "print(A)\n",
    "\n",
    "P = np.linalg.inv(A)\n",
    "print(P)"
   ]
  },
  {
   "cell_type": "code",
   "execution_count": 3,
   "id": "5588ea89",
   "metadata": {},
   "outputs": [
    {
     "name": "stdout",
     "output_type": "stream",
     "text": [
      "[[1. 2. 3.]\n",
      " [4. 0. 6.]\n",
      " [7. 8. 9.]]\n"
     ]
    },
    {
     "data": {
      "text/plain": [
       "59.999999999999986"
      ]
     },
     "execution_count": 3,
     "metadata": {},
     "output_type": "execute_result"
    }
   ],
   "source": [
    "\"\"\"\n",
    "Задание 5.2 Вычислите определитель\n",
    "\"\"\"\n",
    "a = np.array([[1, 2, 3], [4, 0, 6], [7, 8, 9]], float)\n",
    "print(a)\n",
    "np.linalg.det(a)"
   ]
  },
  {
   "cell_type": "code",
   "execution_count": 12,
   "id": "a7ba3035",
   "metadata": {},
   "outputs": [
    {
     "data": {
      "text/plain": [
       "array([[-0.8       ,  0.1       ,  0.2       ],\n",
       "       [ 0.1       , -0.2       ,  0.1       ],\n",
       "       [ 0.53333333,  0.1       , -0.13333333]])"
      ]
     },
     "execution_count": 12,
     "metadata": {},
     "output_type": "execute_result"
    }
   ],
   "source": [
    "\"\"\"\n",
    "Задание 5.3\n",
    "1. Вычислите матрицу, обратную данной\n",
    "2. Приведите пример матрицы 4х4, ранг которой равен 1.\n",
    "\"\"\"\n",
    "np.linalg.inv(a)"
   ]
  },
  {
   "cell_type": "code",
   "execution_count": 16,
   "id": "59c513a8",
   "metadata": {},
   "outputs": [
    {
     "name": "stdout",
     "output_type": "stream",
     "text": [
      "[[1. 1. 1. 1.]\n",
      " [1. 1. 1. 1.]\n",
      " [1. 1. 1. 1.]\n",
      " [1. 1. 1. 1.]]\n"
     ]
    },
    {
     "data": {
      "text/plain": [
       "1"
      ]
     },
     "execution_count": 16,
     "metadata": {},
     "output_type": "execute_result"
    }
   ],
   "source": [
    "c = np.array([[1, 1, 1, 1], [1, 1, 1, 1], [1, 1, 1, 1], [1, 1, 1, 1]], float)\n",
    "print(c)\n",
    "b = np.array([[1], [2], [3]], float)\n",
    "np.linalg.matrix_rank(b, 0.0001)"
   ]
  },
  {
   "cell_type": "code",
   "execution_count": 17,
   "id": "cf573e3b",
   "metadata": {},
   "outputs": [
    {
     "data": {
      "text/plain": [
       "3"
      ]
     },
     "execution_count": 17,
     "metadata": {},
     "output_type": "execute_result"
    }
   ],
   "source": [
    "np.linalg.matrix_rank(a, 0.0001)"
   ]
  },
  {
   "cell_type": "code",
   "execution_count": 18,
   "id": "446b2ab3",
   "metadata": {},
   "outputs": [
    {
     "data": {
      "text/plain": [
       "42"
      ]
     },
     "execution_count": 18,
     "metadata": {},
     "output_type": "execute_result"
    }
   ],
   "source": [
    "\"\"\"\n",
    "Задание 5.4\n",
    "Вычислите скалярное произведение двух векторов:  \n",
    "(1, 5)  и  (2, 8)\n",
    "\"\"\"\n",
    "d = np.array([1, 5])\n",
    "f = np.array([2, 8])\n",
    "np.dot(d, f)"
   ]
  },
  {
   "cell_type": "code",
   "execution_count": 19,
   "id": "4388297e",
   "metadata": {},
   "outputs": [
    {
     "name": "stdout",
     "output_type": "stream",
     "text": [
      "228.5\n"
     ]
    }
   ],
   "source": [
    "\"\"\"\n",
    "Задание 5.5\n",
    "(1, 5, 0), (2, 8, 7) и (7, 1.5, 3) Вычислите смешанное произведение трех векторов:\n",
    "\"\"\"\n",
    "g = np.array([1, 5, 0])\n",
    "h = np.array([2, 8, 7])\n",
    "j = np.array([7, 1.5, 3])\n",
    "k = np.cross(g, h)\n",
    "print(np.inner(k, j))"
   ]
  },
  {
   "cell_type": "code",
   "execution_count": 4,
   "id": "afdadd39",
   "metadata": {},
   "outputs": [
    {
     "name": "stdout",
     "output_type": "stream",
     "text": [
      "[-9.2         0.9         6.46666667]\n"
     ]
    }
   ],
   "source": [
    "\"\"\"\n",
    "Задание 6.1\n",
    "Решите линейную систему\n",
    "\"\"\"\n",
    "import numpy as np\n",
    "\n",
    "np.linalg.inv(a)\n",
    "A = np.array([[1, 2, 3], [4, 0, 6], [7, 8, 9]], float)\n",
    "B = np.array([12, 2, 1])\n",
    "x = np.linalg.solve(A, B)\n",
    "print(x)"
   ]
  },
  {
   "cell_type": "code",
   "execution_count": 23,
   "id": "e0285d68",
   "metadata": {},
   "outputs": [
    {
     "data": {
      "text/plain": [
       "3"
      ]
     },
     "execution_count": 23,
     "metadata": {},
     "output_type": "execute_result"
    }
   ],
   "source": [
    "\"\"\"\n",
    "Задание 6.2\n",
    "Найдите псевдорешение:\n",
    "\"\"\"\n",
    "C = np.array([[1, 2, -1], [3, -4, 0], [8, -5, 2], [2, 0, -5], [11, 4, -7]])\n",
    "D = np.array([1, 7, 12, 7, 15])\n",
    "np.linalg.matrix_rank(C, 0.0001)"
   ]
  },
  {
   "cell_type": "code",
   "execution_count": 24,
   "id": "9b74cfe8",
   "metadata": {},
   "outputs": [
    {
     "name": "stderr",
     "output_type": "stream",
     "text": [
      "C:\\Users\\Filipp\\AppData\\Local\\Temp/ipykernel_17872/3224479271.py:1: FutureWarning: `rcond` parameter will change to the default of machine precision times ``max(M, N)`` where M and N are the input matrix dimensions.\n",
      "To use the future default and silence this warning we advise to pass `rcond=None`, to keep using the old, explicitly pass `rcond=-1`.\n",
      "  np.linalg.lstsq(C, D)\n"
     ]
    },
    {
     "data": {
      "text/plain": [
       "(array([ 1.13919353, -0.90498444, -0.9009803 ]),\n",
       " array([0.71523211]),\n",
       " 3,\n",
       " array([15.2817306 ,  9.59852942,  3.65197794]))"
      ]
     },
     "execution_count": 24,
     "metadata": {},
     "output_type": "execute_result"
    }
   ],
   "source": [
    "np.linalg.lstsq(C, D)"
   ]
  },
  {
   "cell_type": "code",
   "execution_count": 25,
   "id": "c73b869a",
   "metadata": {},
   "outputs": [
    {
     "name": "stdout",
     "output_type": "stream",
     "text": [
      "[-0.76979505  0.03751835 -0.16349016 -0.21671144  0.21805317]\n",
      "0.8457139653464247\n"
     ]
    }
   ],
   "source": [
    "x = np.dot(C, [1.13919353, -0.90498444, -0.9009803]) - D\n",
    "print(x)\n",
    "print(np.linalg.norm(x))"
   ]
  },
  {
   "cell_type": "code",
   "execution_count": 27,
   "id": "41c05ba5",
   "metadata": {},
   "outputs": [
    {
     "name": "stdout",
     "output_type": "stream",
     "text": [
      "1.7020282018815083\n",
      "1.7684739183827392\n"
     ]
    }
   ],
   "source": [
    "print(np.linalg.norm([1.13, -0.9, -0.9]))\n",
    "print(np.linalg.norm([1.15, -0.95, -0.95]))"
   ]
  },
  {
   "cell_type": "code",
   "execution_count": 29,
   "id": "2b8200ce",
   "metadata": {},
   "outputs": [
    {
     "name": "stdout",
     "output_type": "stream",
     "text": [
      "2\n",
      "3\n"
     ]
    },
    {
     "data": {
      "text/plain": [
       "array([-2.20676382e+16,  4.41352763e+16, -2.20676382e+16])"
      ]
     },
     "execution_count": 29,
     "metadata": {},
     "output_type": "execute_result"
    }
   ],
   "source": [
    "'''\n",
    "Задание 6.3\n",
    "Сколько решений имеет линейная система.\n",
    "Если ноль – то измените вектор правой части так, чтобы система стала совместной, и решите ее. \n",
    "'''\n",
    "A = np.array([[1, 2, 3], [4, 5, 6], [7, 8, 9]], float)\n",
    "B = np.array([2, 5, 1], float)\n",
    "C = np.array([[1, 2, 3, 2], [4, 5, 6, 5], [7, 8, 9, 1]], float)\n",
    "print(np.linalg.matrix_rank(A, 0.0001))\n",
    "print(np.linalg.matrix_rank(C, 0.0001))\n",
    "np.linalg.solve(A, B)"
   ]
  },
  {
   "cell_type": "code",
   "execution_count": 30,
   "id": "e1c0e304",
   "metadata": {},
   "outputs": [
    {
     "data": {
      "text/plain": [
       "array([ 0.,  0., -0.])"
      ]
     },
     "execution_count": 30,
     "metadata": {},
     "output_type": "execute_result"
    }
   ],
   "source": [
    "B = np.array([0, 0, 0], float)\n",
    "np.linalg.solve(A, B)"
   ]
  },
  {
   "cell_type": "code",
   "execution_count": 31,
   "id": "41fe4b41",
   "metadata": {},
   "outputs": [
    {
     "name": "stdout",
     "output_type": "stream",
     "text": [
      "[-0.6  4.2 -0.6]\n",
      "[0. 0. 0.]\n"
     ]
    }
   ],
   "source": [
    "# Если решение x = [1, 1, 1]\n",
    "B = np.array([6, 15, 24], float)\n",
    "x = np.linalg.solve(A, B)\n",
    "print(x)\n",
    "print(np.dot(A, x) - B)"
   ]
  },
  {
   "cell_type": "code",
   "execution_count": 32,
   "id": "e75312f1",
   "metadata": {},
   "outputs": [
    {
     "name": "stdout",
     "output_type": "stream",
     "text": [
      "[0. 0. 0.]\n",
      "2\n"
     ]
    }
   ],
   "source": [
    "print(np.dot(A, np.array([1, 1, 1], float)) - B)\n",
    "C = np.array([[1, 2, 3, 6], [4, 5, 6, 15], [7, 8, 9, 24]], float)\n",
    "print(np.linalg.matrix_rank(C, 0.0001))"
   ]
  },
  {
   "cell_type": "code",
   "execution_count": 33,
   "id": "1dd86bf3",
   "metadata": {},
   "outputs": [
    {
     "data": {
      "text/plain": [
       "432.00000000000017"
      ]
     },
     "execution_count": 33,
     "metadata": {},
     "output_type": "execute_result"
    }
   ],
   "source": [
    "\"\"\"\n",
    "Задание 6.4\n",
    "Вычислите LU-разложение матрицы\n",
    "\"\"\"\n",
    "A = np.array([[1, 2, 3],\n",
    "             [2, 16, 21],\n",
    "             [4, 28, 73]])\n",
    "np.linalg.det(A)"
   ]
  },
  {
   "cell_type": "code",
   "execution_count": 34,
   "id": "8de810a4",
   "metadata": {},
   "outputs": [
    {
     "name": "stdout",
     "output_type": "stream",
     "text": [
      "[[0. 1. 0.]\n",
      " [0. 0. 1.]\n",
      " [1. 0. 0.]]\n",
      "[[ 1.    0.    0.  ]\n",
      " [ 0.25  1.    0.  ]\n",
      " [ 0.5  -0.4   1.  ]]\n",
      "[[  4.    28.    73.  ]\n",
      " [  0.    -5.   -15.25]\n",
      " [  0.     0.   -21.6 ]]\n"
     ]
    }
   ],
   "source": [
    "import scipy\n",
    "import scipy.linalg\n",
    "A = np.array([[1, 2, 3],\n",
    "             [2, 16, 21],\n",
    "             [4, 28, 73]], float)\n",
    "P, L, U = scipy.linalg.lu(A)\n",
    "print(P)\n",
    "print(L)\n",
    "print(U)"
   ]
  },
  {
   "cell_type": "code",
   "execution_count": 35,
   "id": "13a23016",
   "metadata": {},
   "outputs": [
    {
     "name": "stderr",
     "output_type": "stream",
     "text": [
      "C:\\Users\\Filipp\\AppData\\Local\\Temp/ipykernel_17872/1526640301.py:11: FutureWarning: `rcond` parameter will change to the default of machine precision times ``max(M, N)`` where M and N are the input matrix dimensions.\n",
      "To use the future default and silence this warning we advise to pass `rcond=None`, to keep using the old, explicitly pass `rcond=-1`.\n",
      "  np.linalg.lstsq(A, B)\n"
     ]
    },
    {
     "data": {
      "text/plain": [
       "(array([ 1.38191882, -0.18081181,  0.0202952 ]),\n",
       " array([], dtype=float64),\n",
       " 2,\n",
       " array([9.65316119, 2.41173777]))"
      ]
     },
     "execution_count": 35,
     "metadata": {},
     "output_type": "execute_result"
    }
   ],
   "source": [
    "'''\n",
    "Задание 6.5\n",
    "Найдите нормальное псевдорешение недоопределенной системы:\n",
    "x + 2y – z = 1  \n",
    "8x – 5y + 2z = 12\n",
    "Для этого определите функцию Q(x,y,z), равную норме решения, и найдите ее минимум. \n",
    "'''\n",
    "A = np.array([[1, 2, -1],\n",
    "             [8, -5, 2]], float)\n",
    "B = np.array([1, 12])\n",
    "np.linalg.lstsq(A, B)"
   ]
  },
  {
   "cell_type": "code",
   "execution_count": 36,
   "id": "fc618029",
   "metadata": {},
   "outputs": [
    {
     "name": "stdout",
     "output_type": "stream",
     "text": [
      "[ 1.         12.00000001]\n"
     ]
    }
   ],
   "source": [
    "print(np.dot(A, [1.38191882, -0.18081181,  0.0202952 ]))"
   ]
  },
  {
   "cell_type": "code",
   "execution_count": 37,
   "id": "22bea25d",
   "metadata": {},
   "outputs": [
    {
     "name": "stdout",
     "output_type": "stream",
     "text": [
      "2\n",
      "3\n"
     ]
    }
   ],
   "source": [
    "\"\"\"\n",
    "Задание 6.6\n",
    "Найдите одно из псевдорешений вырожденной системы\n",
    "Попробуйте также отыскать и нормальное псевдорешение.\n",
    "\"\"\"\n",
    "A = np.array([[1, 2, 3],\n",
    "             [4, 5, 6],\n",
    "             [7, 8, 9]], float)\n",
    "B = np.array([2, 5, 11], float)\n",
    "C = np.array([[1, 2, 3, 2], [4, 5, 6, 5], [7, 8, 9, 11]], float)\n",
    "print(np.linalg.matrix_rank(A, 0.0001))\n",
    "print(np.linalg.matrix_rank(C, 0.0001))"
   ]
  },
  {
   "cell_type": "code",
   "execution_count": 39,
   "id": "ea3a08e7",
   "metadata": {},
   "outputs": [
    {
     "name": "stdout",
     "output_type": "stream",
     "text": [
      "[[-0.12309149  0.90453403  0.40824829]\n",
      " [-0.49236596  0.30151134 -0.81649658]\n",
      " [-0.86164044 -0.30151134  0.40824829]]\n",
      "[[-8.12403840e+00 -9.60113630e+00 -1.10782342e+01]\n",
      " [ 0.00000000e+00  9.04534034e-01  1.80906807e+00]\n",
      " [ 0.00000000e+00  0.00000000e+00 -1.11164740e-15]]\n",
      "[[1. 2. 3.]\n",
      " [4. 5. 6.]\n",
      " [7. 8. 9.]]\n"
     ]
    }
   ],
   "source": [
    "Q, R = np.linalg.qr(A)\n",
    "print(Q)\n",
    "print(R)\n",
    "print(np.dot(Q, R))"
   ]
  },
  {
   "cell_type": "code",
   "execution_count": 41,
   "id": "1bfb0aae",
   "metadata": {},
   "outputs": [
    {
     "data": {
      "text/plain": [
       "array([[-8.1240384 , -9.6011363 ],\n",
       "       [ 0.        ,  0.90453403]])"
      ]
     },
     "execution_count": 41,
     "metadata": {},
     "output_type": "execute_result"
    }
   ],
   "source": [
    "R1 = R[:2, :2]\n",
    "R1"
   ]
  },
  {
   "cell_type": "code",
   "execution_count": 42,
   "id": "f4ae200b",
   "metadata": {},
   "outputs": [
    {
     "data": {
      "text/plain": [
       "array([-1.21860576e+01,  8.54871729e-15])"
      ]
     },
     "execution_count": 42,
     "metadata": {},
     "output_type": "execute_result"
    }
   ],
   "source": [
    "B1 = np.dot(np.transpose(Q), B)[:2]\n",
    "B1"
   ]
  },
  {
   "cell_type": "code",
   "execution_count": 43,
   "id": "53d132eb",
   "metadata": {},
   "outputs": [
    {
     "name": "stdout",
     "output_type": "stream",
     "text": [
      "[1.50000000e+00 9.45096256e-15]\n",
      "[1.50000000e+00 9.45096256e-15 0.00000000e+00]\n"
     ]
    },
    {
     "data": {
      "text/plain": [
       "(1.4999999999999893, 1.2247448713915885)"
      ]
     },
     "execution_count": 43,
     "metadata": {},
     "output_type": "execute_result"
    }
   ],
   "source": [
    "X1 = np.linalg.solve(R1, B1)\n",
    "print(X1)\n",
    "X = np.append(X1, 0)\n",
    "print(X)\n",
    "np.linalg.norm(X), np.linalg.norm(np.dot(A, X) - B)"
   ]
  },
  {
   "cell_type": "code",
   "execution_count": 44,
   "id": "edf3bdf0",
   "metadata": {},
   "outputs": [
    {
     "name": "stderr",
     "output_type": "stream",
     "text": [
      "C:\\Users\\Filipp\\AppData\\Local\\Temp/ipykernel_17872/1844739126.py:1: FutureWarning: `rcond` parameter will change to the default of machine precision times ``max(M, N)`` where M and N are the input matrix dimensions.\n",
      "To use the future default and silence this warning we advise to pass `rcond=None`, to keep using the old, explicitly pass `rcond=-1`.\n",
      "  np.linalg.lstsq(A, B)\n"
     ]
    },
    {
     "data": {
      "text/plain": [
       "(array([ 1.25,  0.5 , -0.25]),\n",
       " array([], dtype=float64),\n",
       " 2,\n",
       " array([1.68481034e+01, 1.06836951e+00, 1.40266540e-16]))"
      ]
     },
     "execution_count": 44,
     "metadata": {},
     "output_type": "execute_result"
    }
   ],
   "source": [
    "np.linalg.lstsq(A, B)"
   ]
  },
  {
   "cell_type": "code",
   "execution_count": 45,
   "id": "7cb1bca0",
   "metadata": {},
   "outputs": [
    {
     "data": {
      "text/plain": [
       "(1.3693063937629153, 1.224744871391589)"
      ]
     },
     "execution_count": 45,
     "metadata": {},
     "output_type": "execute_result"
    }
   ],
   "source": [
    "X = [1.25, 0.5, -0.25]\n",
    "np.linalg.norm(X), np.linalg.norm(np.dot(A, X) - B)"
   ]
  },
  {
   "cell_type": "code",
   "execution_count": null,
   "id": "898a5bf8",
   "metadata": {},
   "outputs": [],
   "source": []
  }
 ],
 "metadata": {
  "kernelspec": {
   "display_name": "Python 3 (ipykernel)",
   "language": "python",
   "name": "python3"
  },
  "language_info": {
   "codemirror_mode": {
    "name": "ipython",
    "version": 3
   },
   "file_extension": ".py",
   "mimetype": "text/x-python",
   "name": "python",
   "nbconvert_exporter": "python",
   "pygments_lexer": "ipython3",
   "version": "3.9.7"
  }
 },
 "nbformat": 4,
 "nbformat_minor": 5
}
