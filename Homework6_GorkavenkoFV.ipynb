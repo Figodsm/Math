{
 "cells": [
  {
   "cell_type": "code",
   "execution_count": 5,
   "id": "57050d9e",
   "metadata": {},
   "outputs": [
    {
     "name": "stdout",
     "output_type": "stream",
     "text": [
      "0.3333333333333333\n"
     ]
    }
   ],
   "source": [
    "\"\"\"\n",
    "1.Задание (теорема сложения)\n",
    "Найти вероятность выпадения 2 или 5 очков при подбрасывании игральной кости, на гранях которой имеются \n",
    "соответственно 1,2,3,4,5 и 6 очков. \n",
    "\n",
    "\"\"\"\n",
    "p_2 = 1/6\n",
    "p_5 = 1/6\n",
    "p_2_or_5 = p_2 + p_5\n",
    "print(p_2_or_5)\n"
   ]
  },
  {
   "cell_type": "code",
   "execution_count": 2,
   "id": "9d31caf0",
   "metadata": {},
   "outputs": [
    {
     "name": "stdout",
     "output_type": "stream",
     "text": [
      "0.027777777777777776\n",
      "0.027777777777777776\n",
      "0.05555555555555555\n"
     ]
    }
   ],
   "source": [
    "\"\"\"\n",
    "3.Задание\n",
    "Найти вероятность выпадения 2 и 5 очков при двух подбрасываниях той же самой игральной кости. \n",
    "Обратите внимание на порядок выпадения костей!\n",
    "\"\"\"\n",
    "p_2 = 1/6\n",
    "p_5 = 1/6\n",
    "p_2_and_5 = p_2 * p_5\n",
    "print(p_2_and_5)\n",
    "p_5_and_2 = p_5 * p_2\n",
    "print(p_5_and_2)\n",
    "p_5_and_2_or_2_and_5 = 2 * p_5_and_2\n",
    "print(p_5_and_2_or_2_and_5)"
   ]
  },
  {
   "cell_type": "code",
   "execution_count": 3,
   "id": "d145cc85",
   "metadata": {},
   "outputs": [
    {
     "name": "stdout",
     "output_type": "stream",
     "text": [
      "0.027777777777777776\n"
     ]
    }
   ],
   "source": [
    "\"\"\"\n",
    "2. Задание (теорема умножения)\n",
    "Найти вероятность того, что при двух подбрасываниях той же самой игральной кости сначала выпадет 2, а затем 5\n",
    "\"\"\"\n",
    "\n",
    "p_2 = 1/6\n",
    "p_5 = 1/6\n",
    "p_2_and_5 = p_2 * p_5\n",
    "print(p_2_and_5)"
   ]
  },
  {
   "cell_type": "code",
   "execution_count": 6,
   "id": "fd28fdd7",
   "metadata": {},
   "outputs": [
    {
     "name": "stdout",
     "output_type": "stream",
     "text": [
      "0.2\n"
     ]
    }
   ],
   "source": [
    "\"\"\"\n",
    "4. Задание (Геометрическая вероятность + интервалы)\n",
    "На отрезке AB длиной 20 см наугад отметили точку C. Какова вероятность, что она находится на расстоянии не более 9 см \n",
    "от точки А и не более 15 см от точки В?\n",
    "\"\"\"\n",
    "\n",
    "l_line = 20\n",
    "l_interval = 9 - 5\n",
    "p_in_interval = l_interval / l_line\n",
    "print(p_in_interval)\n"
   ]
  },
  {
   "cell_type": "code",
   "execution_count": 7,
   "id": "a4388445",
   "metadata": {},
   "outputs": [
    {
     "name": "stdout",
     "output_type": "stream",
     "text": [
      "1e-07\n"
     ]
    }
   ],
   "source": [
    "\"\"\"\n",
    "5. Задание. \n",
    "Телефонный номер состоит из 7 цифр. Какова вероятность, что это номер 8882227?\n",
    "\"\"\"\n",
    "p_8882227 = 1/10**7\n",
    "print(p_8882227)\n"
   ]
  },
  {
   "cell_type": "code",
   "execution_count": 12,
   "id": "618d2f2e",
   "metadata": {},
   "outputs": [
    {
     "name": "stdout",
     "output_type": "stream",
     "text": [
      "Абоненту придется перебрать 72 комбинации\n",
      "Вероятность угадать с первого раза составляет 0.013888888888888888\n"
     ]
    }
   ],
   "source": [
    "\"\"\"\n",
    "6. Задание.\n",
    "Набирая номер телефона, абонент забыл 2 последние цифры, и, помня только то, что эти цифры различны и среди них нет нуля, \n",
    "стал набирать их наудачу. Сколько вариантов ему надо перебрать, чтобы наверняка найти нужный номер? Какова вероятность \n",
    "того, что он угадает номер с первого раза?\n",
    "\"\"\"\n",
    "\"Первую из двух цифр можно выбрать 9 способами, вторую - 8\"\n",
    "\"Общее число комбинаций\"\n",
    "K = 9 * 8\n",
    "p = 1 / K\n",
    "\n",
    "print(f'Абоненту придется перебрать {K} комбинации\\nВероятность угадать с первого раза составляет {p}')"
   ]
  },
  {
   "cell_type": "code",
   "execution_count": null,
   "id": "d32ebe2f",
   "metadata": {},
   "outputs": [],
   "source": []
  }
 ],
 "metadata": {
  "kernelspec": {
   "display_name": "Python 3 (ipykernel)",
   "language": "python",
   "name": "python3"
  },
  "language_info": {
   "codemirror_mode": {
    "name": "ipython",
    "version": 3
   },
   "file_extension": ".py",
   "mimetype": "text/x-python",
   "name": "python",
   "nbconvert_exporter": "python",
   "pygments_lexer": "ipython3",
   "version": "3.9.7"
  }
 },
 "nbformat": 4,
 "nbformat_minor": 5
}
